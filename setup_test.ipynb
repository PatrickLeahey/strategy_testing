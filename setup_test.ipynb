{
 "cells": [
  {
   "cell_type": "code",
   "execution_count": 1,
   "metadata": {},
   "outputs": [],
   "source": [
    "import datetime as dt\n",
    "import pandas as pd"
   ]
  },
  {
   "cell_type": "code",
   "execution_count": 2,
   "metadata": {},
   "outputs": [
    {
     "name": "stdout",
     "output_type": "stream",
     "text": [
      "Requirement already satisfied: finnhub-python in /Users/patrick/anaconda3/lib/python3.7/site-packages (2.2.0)\n",
      "Requirement already satisfied: requests>=2.22.0 in /Users/patrick/anaconda3/lib/python3.7/site-packages (from finnhub-python) (2.24.0)\n",
      "Requirement already satisfied: idna<3,>=2.5 in /Users/patrick/anaconda3/lib/python3.7/site-packages (from requests>=2.22.0->finnhub-python) (2.8)\n",
      "Requirement already satisfied: urllib3!=1.25.0,!=1.25.1,<1.26,>=1.21.1 in /Users/patrick/anaconda3/lib/python3.7/site-packages (from requests>=2.22.0->finnhub-python) (1.24.1)\n",
      "Requirement already satisfied: chardet<4,>=3.0.2 in /Users/patrick/anaconda3/lib/python3.7/site-packages (from requests>=2.22.0->finnhub-python) (3.0.4)\n",
      "Requirement already satisfied: certifi>=2017.4.17 in /Users/patrick/anaconda3/lib/python3.7/site-packages (from requests>=2.22.0->finnhub-python) (2019.3.9)\n",
      "Note: you may need to restart the kernel to use updated packages.\n"
     ]
    }
   ],
   "source": [
    "%pip install finnhub-python\n",
    "import finnhub\n",
    "\n",
    "# Setup client\n",
    "finnhub_client = finnhub.Client(api_key='btghjuv48v6thhaqd6l0')"
   ]
  },
  {
   "cell_type": "code",
   "execution_count": 3,
   "metadata": {},
   "outputs": [],
   "source": [
    "tick = 'CCI'"
   ]
  },
  {
   "cell_type": "code",
   "execution_count": 4,
   "metadata": {},
   "outputs": [],
   "source": [
    "# Interval\n",
    "# One of 1, 5, 15, 30, 60, D, W, M \n",
    "interval = '1'"
   ]
  },
  {
   "cell_type": "code",
   "execution_count": 5,
   "metadata": {},
   "outputs": [],
   "source": [
    "now = int(dt.datetime.utcnow().timestamp())"
   ]
  },
  {
   "cell_type": "code",
   "execution_count": 6,
   "metadata": {},
   "outputs": [],
   "source": [
    "# 5 days ago, say\n",
    "five = now - 5 * 86400"
   ]
  },
  {
   "cell_type": "code",
   "execution_count": 7,
   "metadata": {},
   "outputs": [],
   "source": [
    "# Stock candles\n",
    "# 1 minute increment candles\n",
    "res = finnhub_client.stock_candles(tick, interval, five, now)\n",
    "res_pd = pd.DataFrame(res)\n",
    "res_pd.columns = ['close','high','low','open','status','timestamp','volume']"
   ]
  },
  {
   "cell_type": "code",
   "execution_count": 8,
   "metadata": {},
   "outputs": [
    {
     "data": {
      "text/html": [
       "<div>\n",
       "<style scoped>\n",
       "    .dataframe tbody tr th:only-of-type {\n",
       "        vertical-align: middle;\n",
       "    }\n",
       "\n",
       "    .dataframe tbody tr th {\n",
       "        vertical-align: top;\n",
       "    }\n",
       "\n",
       "    .dataframe thead th {\n",
       "        text-align: right;\n",
       "    }\n",
       "</style>\n",
       "<table border=\"1\" class=\"dataframe\">\n",
       "  <thead>\n",
       "    <tr style=\"text-align: right;\">\n",
       "      <th></th>\n",
       "      <th>close</th>\n",
       "      <th>high</th>\n",
       "      <th>low</th>\n",
       "      <th>open</th>\n",
       "      <th>status</th>\n",
       "      <th>timestamp</th>\n",
       "      <th>volume</th>\n",
       "    </tr>\n",
       "  </thead>\n",
       "  <tbody>\n",
       "    <tr>\n",
       "      <th>0</th>\n",
       "      <td>159.3800</td>\n",
       "      <td>159.3800</td>\n",
       "      <td>159.3800</td>\n",
       "      <td>159.38</td>\n",
       "      <td>ok</td>\n",
       "      <td>1599831000</td>\n",
       "      <td>12491</td>\n",
       "    </tr>\n",
       "    <tr>\n",
       "      <th>1</th>\n",
       "      <td>159.6352</td>\n",
       "      <td>159.6352</td>\n",
       "      <td>159.5000</td>\n",
       "      <td>159.50</td>\n",
       "      <td>ok</td>\n",
       "      <td>1599831060</td>\n",
       "      <td>698</td>\n",
       "    </tr>\n",
       "    <tr>\n",
       "      <th>2</th>\n",
       "      <td>159.4186</td>\n",
       "      <td>159.7200</td>\n",
       "      <td>159.4186</td>\n",
       "      <td>159.72</td>\n",
       "      <td>ok</td>\n",
       "      <td>1599831120</td>\n",
       "      <td>789</td>\n",
       "    </tr>\n",
       "    <tr>\n",
       "      <th>3</th>\n",
       "      <td>159.3600</td>\n",
       "      <td>159.5700</td>\n",
       "      <td>159.2070</td>\n",
       "      <td>159.57</td>\n",
       "      <td>ok</td>\n",
       "      <td>1599831240</td>\n",
       "      <td>1737</td>\n",
       "    </tr>\n",
       "    <tr>\n",
       "      <th>4</th>\n",
       "      <td>159.3350</td>\n",
       "      <td>159.4100</td>\n",
       "      <td>159.2000</td>\n",
       "      <td>159.22</td>\n",
       "      <td>ok</td>\n",
       "      <td>1599831360</td>\n",
       "      <td>6708</td>\n",
       "    </tr>\n",
       "  </tbody>\n",
       "</table>\n",
       "</div>"
      ],
      "text/plain": [
       "      close      high       low    open status   timestamp  volume\n",
       "0  159.3800  159.3800  159.3800  159.38     ok  1599831000   12491\n",
       "1  159.6352  159.6352  159.5000  159.50     ok  1599831060     698\n",
       "2  159.4186  159.7200  159.4186  159.72     ok  1599831120     789\n",
       "3  159.3600  159.5700  159.2070  159.57     ok  1599831240    1737\n",
       "4  159.3350  159.4100  159.2000  159.22     ok  1599831360    6708"
      ]
     },
     "execution_count": 8,
     "metadata": {},
     "output_type": "execute_result"
    }
   ],
   "source": [
    "res_pd.head()"
   ]
  },
  {
   "cell_type": "code",
   "execution_count": 11,
   "metadata": {},
   "outputs": [
    {
     "data": {
      "text/plain": [
       "(1159, 7)"
      ]
     },
     "execution_count": 11,
     "metadata": {},
     "output_type": "execute_result"
    }
   ],
   "source": [
    "# 6.5 hours of trading over 3 week days equals 1170 and I ran this slightly after closing bell. Checks out\n",
    "res_pd.shape"
   ]
  },
  {
   "cell_type": "markdown",
   "metadata": {},
   "source": [
    "\n",
    "### TTM_Squeeze\n",
    "\n",
    "##### Description\n",
    "The Squeeze indicator measures the relationship between two studies: \n",
    "Bollinger Bands® and Keltner's Channels. \n",
    "When the volatility increases, so does the distance between the bands, \n",
    "conversely, when the volatility declines, the distance also decreases.\n",
    "\n",
    "The Squeeze indicator finds sections of the Bollinger Bands® study which \n",
    "fall inside the Keltner's Channels. When the market finishes a move, \n",
    "the indicator turns off, which corresponds to bands having pushed well \n",
    "outside the range of Keltner's Channels.\n",
    "\n",
    "To produce Buy/Sell signals, the Squeeze indicator is plotted along with \n",
    "Momentum Oscillator. The Momentum Oscillator histogram is smoothed up with \n",
    "linear regression and other techniques. When the indicator is on (green) \n",
    "and the Momentum Oscillator is colored cyan, it is considered a Buy signal \n",
    "(this signal is supposed to be correct until two blue bars in a row). \n",
    "When the indicator is on and the Momentum Oscillator is red, \n",
    "it is considered a Sell signal (this signal is supposed to be correct until \n",
    "two yellow bars in a row). When the indicator is off (red), no trade is recommended.\n",
    "\n",
    "[SOURCE](https://tlc.thinkorswim.com/center/reference/Tech-Indicators/studies-library/T-U/TTM-Squeeze)"
   ]
  },
  {
   "cell_type": "code",
   "execution_count": 10,
   "metadata": {},
   "outputs": [],
   "source": [
    "#Figure out how on earth to apply this strategy..."
   ]
  }
 ],
 "metadata": {
  "kernelspec": {
   "display_name": "Python 3",
   "language": "python",
   "name": "python3"
  },
  "language_info": {
   "codemirror_mode": {
    "name": "ipython",
    "version": 3
   },
   "file_extension": ".py",
   "mimetype": "text/x-python",
   "name": "python",
   "nbconvert_exporter": "python",
   "pygments_lexer": "ipython3",
   "version": "3.7.3"
  }
 },
 "nbformat": 4,
 "nbformat_minor": 2
}
